{
 "cells": [
  {
   "cell_type": "code",
   "execution_count": 1,
   "metadata": {},
   "outputs": [],
   "source": [
    "from zellij.strategies.tools.geometry_new import Hypersphere, Hypercube, Section\n",
    "from zellij.core import ArrayVar, FloatVar, Loss\n",
    "from zellij.utils.benchmarks import himmelblau\n",
    "from zellij.utils.converters import FloatMinmax, FloatBinning, ArrayConverter, FloatBinary, FloatBinaryStochastic, ArrayBinaryBest, Basic\n",
    "from zellij.strategies.tools.measurements import SigmaInf, Sigma2, Level, Radius\n",
    "from zellij.strategies.tools.tree_search_new import (\n",
    "    Depth_first_search,\n",
    "    Breadth_first_search,\n",
    "    Best_first_search,\n",
    "    Beam_search,\n",
    "    Epsilon_greedy_search,\n",
    "    Potentially_Optimal_Rectangle,\n",
    "    Locally_biased_POR,\n",
    "    Adaptive_POR,\n",
    "    Soo_tree_search,\n",
    "    Move_up,\n",
    ")\n",
    "\n",
    "from zellij.strategies.tools.scoring import (\n",
    "    Min,\n",
    "    Median,\n",
    "    Mean,\n",
    "    Std,\n",
    "    Distance_to_the_best,\n",
    "    Distance_to_the_best_centered,\n",
    "    Belief,\n",
    ")\n",
    "\n",
    "import numpy as np\n",
    "import logging\n",
    "logging.root.setLevel(logging.DEBUG)"
   ]
  },
  {
   "cell_type": "code",
   "execution_count": 2,
   "metadata": {},
   "outputs": [],
   "source": [
    "sigmoid = lambda x: 1 / (1 + np.exp(-x))\n",
    "vshaped = lambda x: np.abs(np.tanh(x))\n",
    "\n",
    "lf = Loss()(himmelblau)\n",
    "values = ArrayVar(\n",
    "    FloatVar(\"float_1\", -5 , 5, converter=FloatMinmax()),\n",
    "    FloatVar(\"float_2\", -5, 5, converter=FloatMinmax()),\n",
    "    converter=ArrayBinaryBest(loss=lf),\n",
    ")\n",
    "\n",
    "sp = Hypersphere(values, lf, measure=Level(), converter=Basic())\n",
    "ts = Depth_first_search(open=sp, max_depth=3, Q=2)\n",
    "sc = Min()"
   ]
  },
  {
   "cell_type": "code",
   "execution_count": 3,
   "metadata": {},
   "outputs": [],
   "source": [
    "points = sp.random_point(100)\n",
    "cp = []\n",
    "for p in points:\n",
    "    cp.append(values.converter.convert(p))\n",
    "X,Y = lf(cp)"
   ]
  },
  {
   "cell_type": "code",
   "execution_count": 5,
   "metadata": {},
   "outputs": [
    {
     "data": {
      "text/plain": [
       "([[1.094817266639641, -0.4596048053345294],\n",
       "  [-4.326871311079553, -4.227519513592581],\n",
       "  [2.7039292772606096, -4.509376385917511],\n",
       "  [2.8932480783420598, -4.448116802094716],\n",
       "  [0.11693351530001372, -2.8989157643132915],\n",
       "  [1.0195347662068972, 1.091240438944041],\n",
       "  [2.2995481619963805, 1.773020051426223],\n",
       "  [4.178991130641446, 0.9859654199459325],\n",
       "  [0.4876577078512909, 0.6407679425527224],\n",
       "  [3.9531104679387212, -3.5634823636618695],\n",
       "  [4.7836548447452305, -0.8181146106635477],\n",
       "  [-2.9078710415529594, 0.22765993923541927],\n",
       "  [4.602031483397566, 2.926904997745483],\n",
       "  [-4.070430127579288, -1.1817032605762066],\n",
       "  [3.774074233539377, -1.1427352066154803],\n",
       "  [2.6494157643939387, -2.8156311111275922],\n",
       "  [3.2967789711875035, -1.7635015393584306],\n",
       "  [1.1637904905834802, -4.656729898672953],\n",
       "  [2.5104570138201403, 4.466233162872662],\n",
       "  [2.3334002289320743, 4.202693299600025],\n",
       "  [3.3779083920410216, 2.3211141484925033],\n",
       "  [0.5071332349644777, -4.976078086863751],\n",
       "  [-4.8898704879994455, -2.0240835921694833],\n",
       "  [2.217813404960661, -3.382642285732025],\n",
       "  [-1.9864481684701385, 1.377689049659768],\n",
       "  [-1.7410841307013025, -4.281977418742194],\n",
       "  [-0.9266660755463914, -2.107814305818676],\n",
       "  [4.532898428611853, 0.6786772017789344],\n",
       "  [-1.096180331925928, -2.263179828478743],\n",
       "  [-4.0931045446844365, 3.2622976500925933],\n",
       "  [-1.7181389264186722, -3.161090497542749],\n",
       "  [-4.17884582827997, -1.942263849933786],\n",
       "  [-4.629724616152351, 4.0206015236079224],\n",
       "  [3.6298224558221968, -1.0363104244277266],\n",
       "  [-3.4687036996456566, -4.307632258330976],\n",
       "  [4.573260445653384, -4.5014676298385],\n",
       "  [1.11690526171654, 0.6259491154381482],\n",
       "  [0.2422140080486015, 2.3215397467294157],\n",
       "  [2.6070687737737606, -1.1119880875898183],\n",
       "  [2.482216349665414, 3.241068923131129],\n",
       "  [-0.9212401208749856, -2.3581672498155037],\n",
       "  [-3.504443206688782, 4.635495082255428],\n",
       "  [-1.9762075749086092, 4.9586579254923695],\n",
       "  [1.0284893526369645, -3.686414480735328],\n",
       "  [-4.082178368163721, 2.329104548121821],\n",
       "  [4.685016195533686, -0.7251015994094061],\n",
       "  [-0.6439186806153927, -4.109502230923201],\n",
       "  [2.650845870591823, 0.15871930001032553],\n",
       "  [4.434927986804006, -0.053547549637738],\n",
       "  [-2.3666437863758594, -2.57748442592911],\n",
       "  [-4.388450424458085, -3.0095354041455735],\n",
       "  [-1.697111876964442, -3.095122778449124],\n",
       "  [4.017889765196767, 0.1846193566586587],\n",
       "  [0.23979443717115778, -1.1823827714497126],\n",
       "  [4.054905547005745, 1.0273492790731673],\n",
       "  [-3.0767670166932737, 1.2840411190963277],\n",
       "  [-0.9064742533458627, 1.8468809905488897],\n",
       "  [0.12648282442801673, 1.1722860689586767],\n",
       "  [-1.3456924956701322, 4.265457497643268],\n",
       "  [-1.8989397620691397, -4.131159064897968],\n",
       "  [-4.4571964816509935, 2.963626578727915],\n",
       "  [-1.0327542111199852, -2.9518561547974445],\n",
       "  [1.8493329377989918, -1.6685425256410147],\n",
       "  [3.126705451137431, -1.6979373014970922],\n",
       "  [2.2395184484134756, -0.6312323102746129],\n",
       "  [-4.215030620693673, -3.8589106962495343],\n",
       "  [1.5028088697329336, 1.0539502813866441],\n",
       "  [-2.5579314136653597, 1.8010032636104656],\n",
       "  [0.8155297101134504, -1.0287916009531828],\n",
       "  [3.4002867215932504, 4.211936711612015],\n",
       "  [-3.890506009882303, 4.0572145663746415],\n",
       "  [-1.9213446029810433, 3.857002884877746],\n",
       "  [-1.6906114673351724, 3.2214423019824423],\n",
       "  [2.5805016965936964, 4.299296343454024],\n",
       "  [-0.4635770325493489, 3.723558386016304],\n",
       "  [4.970172302195168, 3.661561801062035],\n",
       "  [-3.87972538826331, 2.450179235272336],\n",
       "  [-4.070738866668399, -2.8154025572198704],\n",
       "  [-0.18692934917754034, -2.1242763575805244],\n",
       "  [-2.0086598677507075, 2.5963401617133997],\n",
       "  [2.3577821222917548, 1.1348160439213935],\n",
       "  [-4.633939528021446, -1.2914659987418475],\n",
       "  [2.6757599698374506, 0.5042283805075485],\n",
       "  [-1.4881666280491657, 0.2829314428950349],\n",
       "  [-3.8422735529643504, -2.9418823822791507],\n",
       "  [-1.7289723961183112, 3.067917797537479],\n",
       "  [3.159667955025615, 2.3710633799925676],\n",
       "  [3.7752190297170554, -2.767723143731443],\n",
       "  [-3.1712021687690584, -3.5112740470751658],\n",
       "  [0.9243700281002765, -0.7435370505363812],\n",
       "  [4.43094783373701, -0.13564865397198478],\n",
       "  [0.07463198553878136, 4.747503976338974],\n",
       "  [4.34443872541126, 0.6041343912982091],\n",
       "  [-0.6043190627580666, 0.19798526301402308],\n",
       "  [-1.4483980964793486, 4.560001494797795],\n",
       "  [-3.7289909509053043, -4.540606724602991],\n",
       "  [-1.0843384624537977, -0.4186511249002036],\n",
       "  [1.4048449614424152, 4.0751309844115955],\n",
       "  [-3.99921624002873, -0.0537975238586208],\n",
       "  [0.0697468530971701, -2.3267555678444527]],\n",
       " [[1, 0],\n",
       "  [0, 1],\n",
       "  [0, 1],\n",
       "  [1, 1],\n",
       "  [0, 1],\n",
       "  [0, 1],\n",
       "  [1, 1],\n",
       "  [1, 1],\n",
       "  [0, 0],\n",
       "  [1, 1],\n",
       "  [1, 1],\n",
       "  [0, 0],\n",
       "  [1, 1],\n",
       "  [0, 1],\n",
       "  [1, 1],\n",
       "  [1, 1],\n",
       "  [1, 0],\n",
       "  [1, 1],\n",
       "  [1, 1],\n",
       "  [1, 1],\n",
       "  [1, 1],\n",
       "  [1, 1],\n",
       "  [0, 1],\n",
       "  [1, 1],\n",
       "  [1, 1],\n",
       "  [0, 1],\n",
       "  [0, 1],\n",
       "  [1, 1],\n",
       "  [0, 1],\n",
       "  [0, 1],\n",
       "  [1, 1],\n",
       "  [0, 1],\n",
       "  [0, 1],\n",
       "  [1, 1],\n",
       "  [0, 1],\n",
       "  [1, 1],\n",
       "  [1, 0],\n",
       "  [1, 1],\n",
       "  [1, 1],\n",
       "  [1, 1],\n",
       "  [0, 1],\n",
       "  [0, 1],\n",
       "  [0, 1],\n",
       "  [1, 1],\n",
       "  [0, 1],\n",
       "  [1, 1],\n",
       "  [1, 1],\n",
       "  [1, 0],\n",
       "  [1, 0],\n",
       "  [0, 1],\n",
       "  [0, 1],\n",
       "  [0, 1],\n",
       "  [1, 0],\n",
       "  [0, 1],\n",
       "  [1, 1],\n",
       "  [0, 1],\n",
       "  [0, 1],\n",
       "  [1, 1],\n",
       "  [0, 1],\n",
       "  [1, 1],\n",
       "  [0, 1],\n",
       "  [1, 1],\n",
       "  [1, 1],\n",
       "  [1, 1],\n",
       "  [1, 0],\n",
       "  [0, 1],\n",
       "  [1, 1],\n",
       "  [0, 1],\n",
       "  [1, 1],\n",
       "  [1, 1],\n",
       "  [0, 1],\n",
       "  [0, 1],\n",
       "  [0, 1],\n",
       "  [1, 1],\n",
       "  [1, 1],\n",
       "  [1, 1],\n",
       "  [1, 1],\n",
       "  [0, 1],\n",
       "  [1, 1],\n",
       "  [0, 1],\n",
       "  [1, 1],\n",
       "  [0, 1],\n",
       "  [1, 1],\n",
       "  [1, 0],\n",
       "  [0, 1],\n",
       "  [0, 1],\n",
       "  [1, 1],\n",
       "  [1, 1],\n",
       "  [0, 1],\n",
       "  [1, 0],\n",
       "  [1, 0],\n",
       "  [0, 1],\n",
       "  [1, 1],\n",
       "  [1, 0],\n",
       "  [0, 1],\n",
       "  [0, 1],\n",
       "  [0, 0],\n",
       "  [1, 1],\n",
       "  [0, 0],\n",
       "  [0, 1]],\n",
       " [1, 1],\n",
       " -10.0)"
      ]
     },
     "execution_count": 5,
     "metadata": {},
     "output_type": "execute_result"
    }
   ],
   "source": [
    "points, cp, lf.best_point, lf.best_score"
   ]
  },
  {
   "cell_type": "code",
   "execution_count": 3,
   "metadata": {},
   "outputs": [
    {
     "data": {
      "text/plain": [
       "[Hypersphere(1,0,0),\n",
       " Hypersphere(1,0,1),\n",
       " Hypersphere(1,0,2),\n",
       " Hypersphere(1,0,3)]"
      ]
     },
     "execution_count": 3,
     "metadata": {},
     "output_type": "execute_result"
    }
   ],
   "source": [
    "ctn, current = ts.get_next()\n",
    "children = current[0].create_children()\n",
    "children"
   ]
  },
  {
   "cell_type": "code",
   "execution_count": 4,
   "metadata": {},
   "outputs": [],
   "source": [
    "for c in children:\n",
    "    ts.add(c)\n",
    "ctn, current = ts.get_next()"
   ]
  },
  {
   "cell_type": "code",
   "execution_count": 13,
   "metadata": {},
   "outputs": [
    {
     "data": {
      "text/plain": [
       "(0.20710678118654754, array([0.5       , 0.79289322]), 1, 1, [], [])"
      ]
     },
     "execution_count": 13,
     "metadata": {},
     "output_type": "execute_result"
    }
   ],
   "source": [
    "current[0]\n",
    "current[1].radius, current[1].center, current[1].f_id, current[1].measure, current[1].solutions, current[1].losses"
   ]
  },
  {
   "cell_type": "code",
   "execution_count": 14,
   "metadata": {},
   "outputs": [
    {
     "name": "stdout",
     "output_type": "stream",
     "text": [
      "Hypersphere(1,0,0) [0. 0.] [1. 1.]\n"
     ]
    },
    {
     "data": {
      "text/plain": [
       "(array([0.79289322, 0.5       ]), [2.9289321881345245, 0.0])"
      ]
     },
     "execution_count": 14,
     "metadata": {},
     "output_type": "execute_result"
    }
   ],
   "source": [
    "print(current[0], current[0].lower, current[0].upper)\n",
    "points = current[0].center\n",
    "converted = sp.converter.reverse(points)\n",
    "points,converted"
   ]
  },
  {
   "cell_type": "code",
   "execution_count": 16,
   "metadata": {},
   "outputs": [
    {
     "data": {
      "text/plain": [
       "([[2.9289321881345245, 0.0]], [-24.510255227613385])"
      ]
     },
     "execution_count": 16,
     "metadata": {},
     "output_type": "execute_result"
    }
   ],
   "source": [
    "X,Y = lf([converted])\n",
    "X,Y"
   ]
  },
  {
   "cell_type": "code",
   "execution_count": 17,
   "metadata": {},
   "outputs": [
    {
     "data": {
      "text/plain": [
       "([[0.7928932188134524, 0.5]], [-24.510255227613385])"
      ]
     },
     "execution_count": 17,
     "metadata": {},
     "output_type": "execute_result"
    }
   ],
   "source": [
    "cpoints = sp.converter.convert(X)\n",
    "current[0].add_solutions(cpoints,Y)\n",
    "current[0].solutions,current[0].losses"
   ]
  },
  {
   "cell_type": "code",
   "execution_count": 19,
   "metadata": {},
   "outputs": [],
   "source": [
    "current[0].score = sc(current[0])"
   ]
  },
  {
   "cell_type": "code",
   "execution_count": 20,
   "metadata": {},
   "outputs": [
    {
     "data": {
      "text/plain": [
       "[Hypersphere(2,0,0),\n",
       " Hypersphere(2,0,1),\n",
       " Hypersphere(2,0,2),\n",
       " Hypersphere(2,0,3)]"
      ]
     },
     "execution_count": 20,
     "metadata": {},
     "output_type": "execute_result"
    }
   ],
   "source": [
    "children = current[0].create_children()\n",
    "children"
   ]
  },
  {
   "cell_type": "code",
   "execution_count": 21,
   "metadata": {},
   "outputs": [
    {
     "name": "stdout",
     "output_type": "stream",
     "text": [
      "[0. 0.] [1. 1.] (0, -1, 0) nan 0\n",
      "[0. 0.] [1. 1.] (1, 0, 0) -24.510255227613385 1\n",
      "[0. 0.] [1. 1.] (1, 0, 1) nan 1\n"
     ]
    }
   ],
   "source": [
    "for c in ts.close:\n",
    "    print(c.lower, c.upper, c.get_id(), c.score, c.measure)"
   ]
  },
  {
   "cell_type": "code",
   "execution_count": 12,
   "metadata": {},
   "outputs": [
    {
     "name": "stdout",
     "output_type": "stream",
     "text": [
      "[0.5 0. ] [1.  0.5] (1, 1, 2) nan 1\n",
      "[0.5 0.5] [1. 1.] (1, 1, 3) nan 1\n"
     ]
    }
   ],
   "source": [
    "for c in ts.open:\n",
    "    print(c.lower, c.upper, c.get_id(), c.score, c.measure)"
   ]
  },
  {
   "cell_type": "code",
   "execution_count": 13,
   "metadata": {},
   "outputs": [
    {
     "name": "stdout",
     "output_type": "stream",
     "text": [
      "[0. 0.] [0.25 0.25] (2, 0, 0) -65.92921119744798 2\n",
      "[0.   0.25] [0.25 0.5 ] (2, 0, 1) -65.92921119744798 2\n",
      "[0.25 0.  ] [0.5  0.25] (2, 0, 2) -65.92921119744798 2\n",
      "[0.25 0.25] [0.5 0.5] (2, 0, 3) -65.92921119744798 2\n"
     ]
    }
   ],
   "source": [
    "for c in children:\n",
    "    print(c.lower, c.upper, c.get_id(), c.score, c.measure)"
   ]
  }
 ],
 "metadata": {
  "kernelspec": {
   "display_name": "Python 3",
   "language": "python",
   "name": "python3"
  },
  "language_info": {
   "codemirror_mode": {
    "name": "ipython",
    "version": 3
   },
   "file_extension": ".py",
   "mimetype": "text/x-python",
   "name": "python",
   "nbconvert_exporter": "python",
   "pygments_lexer": "ipython3",
   "version": "3.10.6"
  },
  "orig_nbformat": 4
 },
 "nbformat": 4,
 "nbformat_minor": 2
}
